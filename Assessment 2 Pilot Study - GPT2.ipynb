{
 "cells": [
  {
   "cell_type": "markdown",
   "id": "20f2c93d-12a6-48a5-9fc0-3a81aaa8e33c",
   "metadata": {},
   "source": [
    "# OCOM5204M Assessment 2 Pilot Study\n",
    "**Student ID:** 201692702"
   ]
  },
  {
   "cell_type": "code",
   "execution_count": 1,
   "id": "ac176f5b-b380-4e87-8525-ddc40450b5d2",
   "metadata": {},
   "outputs": [],
   "source": [
    "import pandas as pd\n",
    "import numpy as np\n",
    "import csv\n",
    "import os\n",
    "import re\n",
    "import matplotlib.pyplot as plt\n",
    "\n",
    "pd.set_option('display.max_colwidth', None)"
   ]
  },
  {
   "cell_type": "code",
   "execution_count": 2,
   "id": "279f0d1e-54ea-4806-a76f-379f519c0410",
   "metadata": {},
   "outputs": [],
   "source": [
    "root = os.getcwd()\n",
    "filename = 'edos_labelled_aggregated.csv'\n",
    "filepath = root + '\\\\' + filename"
   ]
  },
  {
   "cell_type": "code",
   "execution_count": 3,
   "id": "3b347256-1bbb-4788-925f-90f0834a79ce",
   "metadata": {},
   "outputs": [
    {
     "name": "stdout",
     "output_type": "stream",
     "text": [
      "Number of data points: 20000\n",
      "Number of unique texts: 20000\n"
     ]
    },
    {
     "data": {
      "text/html": [
       "<div>\n",
       "<style scoped>\n",
       "    .dataframe tbody tr th:only-of-type {\n",
       "        vertical-align: middle;\n",
       "    }\n",
       "\n",
       "    .dataframe tbody tr th {\n",
       "        vertical-align: top;\n",
       "    }\n",
       "\n",
       "    .dataframe thead th {\n",
       "        text-align: right;\n",
       "    }\n",
       "</style>\n",
       "<table border=\"1\" class=\"dataframe\">\n",
       "  <thead>\n",
       "    <tr style=\"text-align: right;\">\n",
       "      <th></th>\n",
       "      <th>rewire_id</th>\n",
       "      <th>text</th>\n",
       "      <th>label_sexist</th>\n",
       "      <th>label_category</th>\n",
       "      <th>label_vector</th>\n",
       "      <th>split</th>\n",
       "    </tr>\n",
       "  </thead>\n",
       "  <tbody>\n",
       "    <tr>\n",
       "      <th>0</th>\n",
       "      <td>sexism2022_english-9609</td>\n",
       "      <td>In Nigeria, if you rape a woman, the men rape you back! #NSFW \"In Nigeria, if you rape a woman, guys rape you back!\" by [USER] [URL]</td>\n",
       "      <td>not sexist</td>\n",
       "      <td>none</td>\n",
       "      <td>none</td>\n",
       "      <td>dev</td>\n",
       "    </tr>\n",
       "    <tr>\n",
       "      <th>1</th>\n",
       "      <td>sexism2022_english-16993</td>\n",
       "      <td>Then, she's a keeper. 😉</td>\n",
       "      <td>not sexist</td>\n",
       "      <td>none</td>\n",
       "      <td>none</td>\n",
       "      <td>train</td>\n",
       "    </tr>\n",
       "    <tr>\n",
       "      <th>2</th>\n",
       "      <td>sexism2022_english-13149</td>\n",
       "      <td>This is like the Metallica video where the poor mutilated bastard was saying \"Please kill me\" over and over again, only with emojis instead of Morse code.</td>\n",
       "      <td>not sexist</td>\n",
       "      <td>none</td>\n",
       "      <td>none</td>\n",
       "      <td>train</td>\n",
       "    </tr>\n",
       "    <tr>\n",
       "      <th>3</th>\n",
       "      <td>sexism2022_english-13021</td>\n",
       "      <td>woman?</td>\n",
       "      <td>not sexist</td>\n",
       "      <td>none</td>\n",
       "      <td>none</td>\n",
       "      <td>train</td>\n",
       "    </tr>\n",
       "    <tr>\n",
       "      <th>4</th>\n",
       "      <td>sexism2022_english-966</td>\n",
       "      <td>I bet she wished she had a gun</td>\n",
       "      <td>not sexist</td>\n",
       "      <td>none</td>\n",
       "      <td>none</td>\n",
       "      <td>dev</td>\n",
       "    </tr>\n",
       "  </tbody>\n",
       "</table>\n",
       "</div>"
      ],
      "text/plain": [
       "                  rewire_id  \\\n",
       "0   sexism2022_english-9609   \n",
       "1  sexism2022_english-16993   \n",
       "2  sexism2022_english-13149   \n",
       "3  sexism2022_english-13021   \n",
       "4    sexism2022_english-966   \n",
       "\n",
       "                                                                                                                                                         text  \\\n",
       "0                        In Nigeria, if you rape a woman, the men rape you back! #NSFW \"In Nigeria, if you rape a woman, guys rape you back!\" by [USER] [URL]   \n",
       "1                                                                                                                                     Then, she's a keeper. 😉   \n",
       "2  This is like the Metallica video where the poor mutilated bastard was saying \"Please kill me\" over and over again, only with emojis instead of Morse code.   \n",
       "3                                                                                                                                                      woman?   \n",
       "4                                                                                                                              I bet she wished she had a gun   \n",
       "\n",
       "  label_sexist label_category label_vector  split  \n",
       "0   not sexist           none         none    dev  \n",
       "1   not sexist           none         none  train  \n",
       "2   not sexist           none         none  train  \n",
       "3   not sexist           none         none  train  \n",
       "4   not sexist           none         none    dev  "
      ]
     },
     "execution_count": 3,
     "metadata": {},
     "output_type": "execute_result"
    }
   ],
   "source": [
    "df_raw_data = pd.read_csv(filepath)\n",
    "print(f'Number of data points: {len(df_raw_data)}')\n",
    "print(f\"Number of unique texts: {len(pd.unique(df_raw_data['text']))}\")\n",
    "pd.unique(df_raw_data['label_category'])\n",
    "df_raw_data.head()"
   ]
  },
  {
   "cell_type": "code",
   "execution_count": 4,
   "id": "20d79a2b-d133-43ff-8f66-d9c8a4a8bd8b",
   "metadata": {},
   "outputs": [
    {
     "data": {
      "text/html": [
       "<div>\n",
       "<style scoped>\n",
       "    .dataframe tbody tr th:only-of-type {\n",
       "        vertical-align: middle;\n",
       "    }\n",
       "\n",
       "    .dataframe tbody tr th {\n",
       "        vertical-align: top;\n",
       "    }\n",
       "\n",
       "    .dataframe thead th {\n",
       "        text-align: right;\n",
       "    }\n",
       "</style>\n",
       "<table border=\"1\" class=\"dataframe\">\n",
       "  <thead>\n",
       "    <tr style=\"text-align: right;\">\n",
       "      <th></th>\n",
       "      <th>text</th>\n",
       "      <th>label_sexist</th>\n",
       "      <th>label_category</th>\n",
       "      <th>split</th>\n",
       "      <th>label_category_number</th>\n",
       "    </tr>\n",
       "  </thead>\n",
       "  <tbody>\n",
       "    <tr>\n",
       "      <th>0</th>\n",
       "      <td>In Nigeria, if you rape a woman, the men rape you back! #NSFW \"In Nigeria, if you rape a woman, guys rape you back!\" by [USER] [URL]</td>\n",
       "      <td>not sexist</td>\n",
       "      <td>none</td>\n",
       "      <td>dev</td>\n",
       "      <td>0</td>\n",
       "    </tr>\n",
       "    <tr>\n",
       "      <th>1</th>\n",
       "      <td>Then, she's a keeper. 😉</td>\n",
       "      <td>not sexist</td>\n",
       "      <td>none</td>\n",
       "      <td>train</td>\n",
       "      <td>0</td>\n",
       "    </tr>\n",
       "    <tr>\n",
       "      <th>2</th>\n",
       "      <td>This is like the Metallica video where the poor mutilated bastard was saying \"Please kill me\" over and over again, only with emojis instead of Morse code.</td>\n",
       "      <td>not sexist</td>\n",
       "      <td>none</td>\n",
       "      <td>train</td>\n",
       "      <td>0</td>\n",
       "    </tr>\n",
       "    <tr>\n",
       "      <th>3</th>\n",
       "      <td>woman?</td>\n",
       "      <td>not sexist</td>\n",
       "      <td>none</td>\n",
       "      <td>train</td>\n",
       "      <td>0</td>\n",
       "    </tr>\n",
       "    <tr>\n",
       "      <th>4</th>\n",
       "      <td>I bet she wished she had a gun</td>\n",
       "      <td>not sexist</td>\n",
       "      <td>none</td>\n",
       "      <td>dev</td>\n",
       "      <td>0</td>\n",
       "    </tr>\n",
       "  </tbody>\n",
       "</table>\n",
       "</div>"
      ],
      "text/plain": [
       "                                                                                                                                                         text  \\\n",
       "0                        In Nigeria, if you rape a woman, the men rape you back! #NSFW \"In Nigeria, if you rape a woman, guys rape you back!\" by [USER] [URL]   \n",
       "1                                                                                                                                     Then, she's a keeper. 😉   \n",
       "2  This is like the Metallica video where the poor mutilated bastard was saying \"Please kill me\" over and over again, only with emojis instead of Morse code.   \n",
       "3                                                                                                                                                      woman?   \n",
       "4                                                                                                                              I bet she wished she had a gun   \n",
       "\n",
       "  label_sexist label_category  split  label_category_number  \n",
       "0   not sexist           none    dev                      0  \n",
       "1   not sexist           none  train                      0  \n",
       "2   not sexist           none  train                      0  \n",
       "3   not sexist           none  train                      0  \n",
       "4   not sexist           none    dev                      0  "
      ]
     },
     "execution_count": 4,
     "metadata": {},
     "output_type": "execute_result"
    }
   ],
   "source": [
    "df_data = df_raw_data.drop(columns=['rewire_id', 'label_vector'])\n",
    "df_data['label_category_number'] = df_data['label_category'].apply(lambda x: 0 if x=='none' else int(x[0]))\n",
    "df_data.head()"
   ]
  },
  {
   "cell_type": "code",
   "execution_count": 5,
   "id": "593750ff-848e-47dc-8a97-bde390a28f30",
   "metadata": {},
   "outputs": [
    {
     "data": {
      "image/png": "[encoded data removed]",
      "text/plain": [
       "<Figure size 800x200 with 1 Axes>"
      ]
     },
     "metadata": {},
     "output_type": "display_data"
    }
   ],
   "source": [
    "df_bar_chart = df_data[df_data['split']=='train']['label_category'].value_counts().sort_values(ascending=True)\n",
    "\n",
    "plt.rcParams['figure.figsize']=[8,2]\n",
    "fig,ax = plt.subplots()\n",
    "bar_widths = 0.9\n",
    "idx = np.arange(len(df_bar_chart))\n",
    "cols = ['dimgrey' if category=='none' else 'maroon' for category in df_bar_chart.index]\n",
    "\n",
    "chart = ax.barh(df_bar_chart.index,\n",
    "                df_bar_chart.values,\n",
    "                height=bar_widths,\n",
    "                color=cols)\n",
    "ax.set_xticks([])\n",
    "\n",
    "for spine_label in ['top', 'right', 'bottom', 'left']:\n",
    "    ax.spines[spine_label].set_visible(False)\n",
    "\n",
    "labels = [f' {val:,} ({\"%.0f%%\" % (100*val/df_bar_chart.sum())})' \n",
    "          for val in df_bar_chart.values]\n",
    "\n",
    "ax.bar_label(chart, labels=labels, label_type='edge')\n",
    "ax.legend(handles=chart[3:5], labels=['sexist', 'not-sexist'])\n",
    "\n",
    "plt.tight_layout()\n",
    "plt.show()"
   ]
  },
  {
   "cell_type": "code",
   "execution_count": 6,
   "id": "8ac3daf5-0298-4de0-8b6a-593428ee39af",
   "metadata": {},
   "outputs": [
    {
     "data": {
      "text/plain": [
       "\"They're so clueless. White western women are the most privileged class on earth.\""
      ]
     },
     "execution_count": 6,
     "metadata": {},
     "output_type": "execute_result"
    }
   ],
   "source": [
    "df_data[df_data['label_category_number']==4].sample(1).iloc[0]['text']"
   ]
  },
  {
   "cell_type": "code",
   "execution_count": 7,
   "id": "30c741cd-3766-4154-961c-4f3b3f9a11c0",
   "metadata": {},
   "outputs": [],
   "source": [
    "# Creating the textual prompts to go alongside the text for fine-tuning\n",
    "def generate_prompt(category):\n",
    "    if category==0:\n",
    "        prompt_example = 'Write a not sexist comment.'\n",
    "    elif category==1:\n",
    "        prompt_example = 'Write a sexist comment that is threatening to women.'\n",
    "    elif category==2:\n",
    "        prompt_example = 'Write a sexist comment that is derogatory to women.'\n",
    "    elif category==3:\n",
    "        prompt_example = 'Write a sexist comment that shows animosity toward women.'\n",
    "    elif category==4:\n",
    "        prompt_example = 'Write a sexist comment that is part of a prejudiced discussion against women.'\n",
    "    \n",
    "    prompt = f'''[Task]: {prompt_example}\\n[Answer]: '''\n",
    "    return prompt\n"
   ]
  },
  {
   "cell_type": "code",
   "execution_count": 8,
   "id": "124dfe88-53b3-4f69-8159-40b472c62d99",
   "metadata": {},
   "outputs": [],
   "source": [
    "# Regex cleaning text\n",
    "def clean_text(text):\n",
    "    # List of common emoji patterns\n",
    "    # Also removing tilde (~) as it is used for emphasis only\n",
    "    pattern = re.compile(\n",
    "        r'[\\U0001F600-\\U0001F64F]|[\\U0001F300-\\U0001F5FF]|[\\U0001F680-\\U0001F6FF]|[\\U0001F700-\\U0001F77F]|'\n",
    "        r'[\\U0001F780-\\U0001F7FF]|[\\U0001F800-\\U0001F8FF]|[\\U0001F900-\\U0001F9FF]|[\\U0001FA00-\\U0001FA6F]|'\n",
    "        r'[\\U0001FA70-\\U0001FAFF]|[\\U00002702-\\U000027B0]|[\\U000024C2-\\U0001F251]|[\\U0001F004-\\U0001F0CF]|'\n",
    "        r'[\\U0001F170-\\U0001F19A]|[\\U0001F1E6-\\U0001F1FF]'\n",
    "        r'|~'\n",
    "    )\n",
    "    cleaned_text = re.sub(pattern, '', text)\n",
    "\n",
    "    return cleaned_text"
   ]
  },
  {
   "cell_type": "code",
   "execution_count": 9,
   "id": "0870f07d-a2fa-484b-9caf-ec513017eaf8",
   "metadata": {},
   "outputs": [
    {
     "data": {
      "text/html": [
       "<div>\n",
       "<style scoped>\n",
       "    .dataframe tbody tr th:only-of-type {\n",
       "        vertical-align: middle;\n",
       "    }\n",
       "\n",
       "    .dataframe tbody tr th {\n",
       "        vertical-align: top;\n",
       "    }\n",
       "\n",
       "    .dataframe thead th {\n",
       "        text-align: right;\n",
       "    }\n",
       "</style>\n",
       "<table border=\"1\" class=\"dataframe\">\n",
       "  <thead>\n",
       "    <tr style=\"text-align: right;\">\n",
       "      <th></th>\n",
       "      <th>text</th>\n",
       "      <th>label_sexist</th>\n",
       "      <th>label_category</th>\n",
       "      <th>split</th>\n",
       "      <th>label_category_number</th>\n",
       "      <th>prompt</th>\n",
       "    </tr>\n",
       "  </thead>\n",
       "  <tbody>\n",
       "    <tr>\n",
       "      <th>0</th>\n",
       "      <td>In Nigeria, if you rape a woman, the men rape you back! #NSFW \"In Nigeria, if you rape a woman, guys rape you back!\" by [USER] [URL]</td>\n",
       "      <td>not sexist</td>\n",
       "      <td>none</td>\n",
       "      <td>dev</td>\n",
       "      <td>0</td>\n",
       "      <td>[Task]: Write a not sexist comment.\\n[Answer]: In Nigeria, if you rape a woman, the men rape you back! #NSFW \"In Nigeria, if you rape a woman, guys rape you back!\" by [USER] [URL]&lt;END&gt;\\n\\n</td>\n",
       "    </tr>\n",
       "    <tr>\n",
       "      <th>1</th>\n",
       "      <td>Then, she's a keeper. 😉</td>\n",
       "      <td>not sexist</td>\n",
       "      <td>none</td>\n",
       "      <td>train</td>\n",
       "      <td>0</td>\n",
       "      <td>[Task]: Write a not sexist comment.\\n[Answer]: Then, she's a keeper. &lt;END&gt;\\n\\n</td>\n",
       "    </tr>\n",
       "    <tr>\n",
       "      <th>2</th>\n",
       "      <td>This is like the Metallica video where the poor mutilated bastard was saying \"Please kill me\" over and over again, only with emojis instead of Morse code.</td>\n",
       "      <td>not sexist</td>\n",
       "      <td>none</td>\n",
       "      <td>train</td>\n",
       "      <td>0</td>\n",
       "      <td>[Task]: Write a not sexist comment.\\n[Answer]: This is like the Metallica video where the poor mutilated bastard was saying \"Please kill me\" over and over again, only with emojis instead of Morse code.&lt;END&gt;\\n\\n</td>\n",
       "    </tr>\n",
       "    <tr>\n",
       "      <th>3</th>\n",
       "      <td>woman?</td>\n",
       "      <td>not sexist</td>\n",
       "      <td>none</td>\n",
       "      <td>train</td>\n",
       "      <td>0</td>\n",
       "      <td>[Task]: Write a not sexist comment.\\n[Answer]: woman?&lt;END&gt;\\n\\n</td>\n",
       "    </tr>\n",
       "    <tr>\n",
       "      <th>4</th>\n",
       "      <td>I bet she wished she had a gun</td>\n",
       "      <td>not sexist</td>\n",
       "      <td>none</td>\n",
       "      <td>dev</td>\n",
       "      <td>0</td>\n",
       "      <td>[Task]: Write a not sexist comment.\\n[Answer]: I bet she wished she had a gun&lt;END&gt;\\n\\n</td>\n",
       "    </tr>\n",
       "  </tbody>\n",
       "</table>\n",
       "</div>"
      ],
      "text/plain": [
       "                                                                                                                                                         text  \\\n",
       "0                        In Nigeria, if you rape a woman, the men rape you back! #NSFW \"In Nigeria, if you rape a woman, guys rape you back!\" by [USER] [URL]   \n",
       "1                                                                                                                                     Then, she's a keeper. 😉   \n",
       "2  This is like the Metallica video where the poor mutilated bastard was saying \"Please kill me\" over and over again, only with emojis instead of Morse code.   \n",
       "3                                                                                                                                                      woman?   \n",
       "4                                                                                                                              I bet she wished she had a gun   \n",
       "\n",
       "  label_sexist label_category  split  label_category_number  \\\n",
       "0   not sexist           none    dev                      0   \n",
       "1   not sexist           none  train                      0   \n",
       "2   not sexist           none  train                      0   \n",
       "3   not sexist           none  train                      0   \n",
       "4   not sexist           none    dev                      0   \n",
       "\n",
       "                                                                                                                                                                                                               prompt  \n",
       "0                        [Task]: Write a not sexist comment.\\n[Answer]: In Nigeria, if you rape a woman, the men rape you back! #NSFW \"In Nigeria, if you rape a woman, guys rape you back!\" by [USER] [URL]<END>\\n\\n  \n",
       "1                                                                                                                                      [Task]: Write a not sexist comment.\\n[Answer]: Then, she's a keeper. <END>\\n\\n  \n",
       "2  [Task]: Write a not sexist comment.\\n[Answer]: This is like the Metallica video where the poor mutilated bastard was saying \"Please kill me\" over and over again, only with emojis instead of Morse code.<END>\\n\\n  \n",
       "3                                                                                                                                                      [Task]: Write a not sexist comment.\\n[Answer]: woman?<END>\\n\\n  \n",
       "4                                                                                                                              [Task]: Write a not sexist comment.\\n[Answer]: I bet she wished she had a gun<END>\\n\\n  "
      ]
     },
     "execution_count": 9,
     "metadata": {},
     "output_type": "execute_result"
    }
   ],
   "source": [
    "df_data['prompt'] = df_data['label_category_number'].apply(generate_prompt) \\\n",
    "                    + df_data['text'].apply(clean_text) + '<END>\\n\\n'\n",
    "\n",
    "df_data.head()"
   ]
  },
  {
   "cell_type": "code",
   "execution_count": 10,
   "id": "247751eb-6878-47ac-ad57-cc3eb816c287",
   "metadata": {},
   "outputs": [
    {
     "name": "stdout",
     "output_type": "stream",
     "text": [
      "Training set size: 14000\n",
      "Dev set size: 2000\n",
      "Test set size: 4000\n"
     ]
    }
   ],
   "source": [
    "df_train = df_data[df_data['split']=='train']\n",
    "df_dev = df_data[df_data['split']=='dev']\n",
    "df_test = df_data[df_data['split']=='test']\n",
    "print(f'Training set size: {len(df_train)}')\n",
    "print(f'Dev set size: {len(df_dev)}')\n",
    "print(f'Test set size: {len(df_test)}')"
   ]
  },
  {
   "cell_type": "code",
   "execution_count": 11,
   "id": "32388512-1771-44ec-b183-113a5a94dd87",
   "metadata": {},
   "outputs": [
    {
     "name": "stdout",
     "output_type": "stream",
     "text": [
      "Number of over sampled labels removed: 9012\n",
      "Balanced training set size: 4988\n"
     ]
    }
   ],
   "source": [
    "# Balancing the training data\n",
    "def balance_df(df, field_to_bal = 'label_category_number', over_sampled_val = 0):    \n",
    "    max_balanced_n = df[df[field_to_bal]!=over_sampled_val][field_to_bal].value_counts().max()\n",
    "    \n",
    "    df_bal = pd.concat([df[df[field_to_bal]==over_sampled_val].sample(max_balanced_n),\n",
    "                   df[df[field_to_bal]!=over_sampled_val]],\n",
    "                   ignore_index=True)\n",
    "    print(f\"Number of over sampled labels removed: {len(df) - len(df_bal)}\")\n",
    "    return df_bal\n",
    "\n",
    "df_train = balance_df(df_train)\n",
    "print(f\"Balanced training set size: {len(df_train)}\")"
   ]
  },
  {
   "cell_type": "code",
   "execution_count": 12,
   "id": "4b21aad6-856d-4667-83dd-469171c9fe99",
   "metadata": {},
   "outputs": [],
   "source": [
    "df_data['prompt'].to_csv('train_data.txt',\n",
    "                         sep='\\t',\n",
    "                         quoting=csv.QUOTE_NONE,\n",
    "                         escapechar='\\r',\n",
    "                         lineterminator='\\n',\n",
    "                         header=False,\n",
    "                         index=False,\n",
    "                         mode='w'\n",
    "                        )"
   ]
  },
  {
   "cell_type": "code",
   "execution_count": 13,
   "id": "2e58a0ee-3905-4554-a7b7-96520e3a88ab",
   "metadata": {},
   "outputs": [],
   "source": [
    "import torch\n",
    "from transformers import GPT2Tokenizer, GPT2LMHeadModel\n",
    "from transformers import TrainingArguments, Trainer\n",
    "from transformers import DataCollatorForLanguageModeling\n",
    "from transformers import TextDataset\n",
    "\n",
    "import evaluate\n",
    "from datasets import Dataset\n",
    "from datasets.dataset_dict import DatasetDict"
   ]
  },
  {
   "cell_type": "code",
   "execution_count": 14,
   "id": "bb1f1f64-9647-4371-84ed-ba67b18b4bb2",
   "metadata": {},
   "outputs": [],
   "source": [
    "# GPT2 for proof of concept\n",
    "model_name = 'gpt2-medium'\n",
    "model = GPT2LMHeadModel.from_pretrained(model_name)\n",
    "tokenizer = GPT2Tokenizer.from_pretrained(model_name)\n",
    "data_collator = DataCollatorForLanguageModeling(tokenizer=tokenizer, mlm=False)"
   ]
  },
  {
   "cell_type": "code",
   "execution_count": 15,
   "id": "b6f069f6-9264-42e0-802c-b6942f790fb0",
   "metadata": {},
   "outputs": [
    {
     "name": "stdout",
     "output_type": "stream",
     "text": [
      "Using device: cuda\n"
     ]
    }
   ],
   "source": [
    "device = torch.device('cuda' if torch.cuda.is_available() else 'cpu')\n",
    "print('Using device:', device)\n",
    "model = model.to(device)"
   ]
  },
  {
   "cell_type": "code",
   "execution_count": 16,
   "id": "8a7acacd-217d-42ce-8806-092504a33127",
   "metadata": {},
   "outputs": [
    {
     "name": "stderr",
     "output_type": "stream",
     "text": [
      "C:\\Users\\Wes\\AppData\\Local\\Programs\\Python\\Python311\\Lib\\site-packages\\transformers\\data\\datasets\\language_modeling.py:53: FutureWarning: This dataset will be removed from the library soon, preprocessing should be handled with the 🤗 Datasets library. You can have a look at this example script for pointers: https://github.com/huggingface/transformers/blob/main/examples/pytorch/language-modeling/run_mlm.py\n",
      "  warnings.warn(\n"
     ]
    }
   ],
   "source": [
    "train_dataset = TextDataset(tokenizer=tokenizer,\n",
    "                            file_path='train_data.txt',\n",
    "                            block_size=128)"
   ]
  },
  {
   "cell_type": "code",
   "execution_count": 17,
   "id": "5e34045a-1dbc-489d-93a5-f72ce4940596",
   "metadata": {},
   "outputs": [],
   "source": [
    "## Potentially need to downsample / remove sentences that are too similar ##"
   ]
  },
  {
   "cell_type": "code",
   "execution_count": 18,
   "id": "b9783a28-8398-4be6-b9ee-3b7526d54878",
   "metadata": {},
   "outputs": [
    {
     "name": "stderr",
     "output_type": "stream",
     "text": [
      "Setting `pad_token_id` to `eos_token_id`:50256 for open-end generation.\n"
     ]
    },
    {
     "name": "stdout",
     "output_type": "stream",
     "text": [
      "[\"[Task]: Write a sexist comment that is threatening.\\n[Answer]: \\xa0I'm sorry, but I'm not going to do that.\\n[Task]: Write a sexist comment that is threatening.\\n[Answer]:\"]\n"
     ]
    }
   ],
   "source": [
    "# Generate an example of pre-training prompt response\n",
    "example_prompt = '[Task]: Write a sexist comment that is threatening.\\n[Answer]: '\n",
    "inputs = tokenizer(example_prompt, return_tensors=\"pt\").to(device)\n",
    "outputs = model.generate(**inputs, max_new_tokens=30)\n",
    "print(tokenizer.batch_decode(outputs, skip_special_tokens=True))"
   ]
  },
  {
   "cell_type": "code",
   "execution_count": 19,
   "id": "53c56a53-5b3f-4d5d-b7c5-53e6c960a1c3",
   "metadata": {},
   "outputs": [],
   "source": [
    "# Fine-tuning model\n",
    "# Setting up training arguments\n",
    "training_args = TrainingArguments(\n",
    "    output_dir='gpt2-outputs',\n",
    "    overwrite_output_dir=True,\n",
    "    num_train_epochs = 30,\n",
    "    per_device_train_batch_size = 16,\n",
    ")\n",
    "\n",
    "trainer = Trainer(\n",
    "    model=model,\n",
    "    args=training_args,\n",
    "    data_collator=data_collator,\n",
    "    train_dataset=train_dataset\n",
    ")"
   ]
  },
  {
   "cell_type": "code",
   "execution_count": 20,
   "id": "6ab69a07-c999-4192-9d01-a50e43830e27",
   "metadata": {},
   "outputs": [
    {
     "data": {
      "text/html": [
       "\n",
       "    <div>\n",
       "      \n",
       "      <progress value='13800' max='13800' style='width:300px; height:20px; vertical-align: middle;'></progress>\n",
       "      [13800/13800 46:24, Epoch 30/30]\n",
       "    </div>\n",
       "    <table border=\"1\" class=\"dataframe\">\n",
       "  <thead>\n",
       " <tr style=\"text-align: left;\">\n",
       "      <th>Step</th>\n",
       "      <th>Training Loss</th>\n",
       "    </tr>\n",
       "  </thead>\n",
       "  <tbody>\n",
       "    <tr>\n",
       "      <td>500</td>\n",
       "      <td>2.675800</td>\n",
       "    </tr>\n",
       "    <tr>\n",
       "      <td>1000</td>\n",
       "      <td>2.418300</td>\n",
       "    </tr>\n",
       "    <tr>\n",
       "      <td>1500</td>\n",
       "      <td>2.243400</td>\n",
       "    </tr>\n",
       "    <tr>\n",
       "      <td>2000</td>\n",
       "      <td>2.080200</td>\n",
       "    </tr>\n",
       "    <tr>\n",
       "      <td>2500</td>\n",
       "      <td>1.927800</td>\n",
       "    </tr>\n",
       "    <tr>\n",
       "      <td>3000</td>\n",
       "      <td>1.788400</td>\n",
       "    </tr>\n",
       "    <tr>\n",
       "      <td>3500</td>\n",
       "      <td>1.663100</td>\n",
       "    </tr>\n",
       "    <tr>\n",
       "      <td>4000</td>\n",
       "      <td>1.537700</td>\n",
       "    </tr>\n",
       "    <tr>\n",
       "      <td>4500</td>\n",
       "      <td>1.430200</td>\n",
       "    </tr>\n",
       "    <tr>\n",
       "      <td>5000</td>\n",
       "      <td>1.327100</td>\n",
       "    </tr>\n",
       "    <tr>\n",
       "      <td>5500</td>\n",
       "      <td>1.238000</td>\n",
       "    </tr>\n",
       "    <tr>\n",
       "      <td>6000</td>\n",
       "      <td>1.149700</td>\n",
       "    </tr>\n",
       "    <tr>\n",
       "      <td>6500</td>\n",
       "      <td>1.071400</td>\n",
       "    </tr>\n",
       "    <tr>\n",
       "      <td>7000</td>\n",
       "      <td>1.005900</td>\n",
       "    </tr>\n",
       "    <tr>\n",
       "      <td>7500</td>\n",
       "      <td>0.945200</td>\n",
       "    </tr>\n",
       "    <tr>\n",
       "      <td>8000</td>\n",
       "      <td>0.892500</td>\n",
       "    </tr>\n",
       "    <tr>\n",
       "      <td>8500</td>\n",
       "      <td>0.845100</td>\n",
       "    </tr>\n",
       "    <tr>\n",
       "      <td>9000</td>\n",
       "      <td>0.802800</td>\n",
       "    </tr>\n",
       "    <tr>\n",
       "      <td>9500</td>\n",
       "      <td>0.767000</td>\n",
       "    </tr>\n",
       "    <tr>\n",
       "      <td>10000</td>\n",
       "      <td>0.733300</td>\n",
       "    </tr>\n",
       "    <tr>\n",
       "      <td>10500</td>\n",
       "      <td>0.706400</td>\n",
       "    </tr>\n",
       "    <tr>\n",
       "      <td>11000</td>\n",
       "      <td>0.679400</td>\n",
       "    </tr>\n",
       "    <tr>\n",
       "      <td>11500</td>\n",
       "      <td>0.659600</td>\n",
       "    </tr>\n",
       "    <tr>\n",
       "      <td>12000</td>\n",
       "      <td>0.640900</td>\n",
       "    </tr>\n",
       "    <tr>\n",
       "      <td>12500</td>\n",
       "      <td>0.625100</td>\n",
       "    </tr>\n",
       "    <tr>\n",
       "      <td>13000</td>\n",
       "      <td>0.615700</td>\n",
       "    </tr>\n",
       "    <tr>\n",
       "      <td>13500</td>\n",
       "      <td>0.608000</td>\n",
       "    </tr>\n",
       "  </tbody>\n",
       "</table><p>"
      ],
      "text/plain": [
       "<IPython.core.display.HTML object>"
      ]
     },
     "metadata": {},
     "output_type": "display_data"
    },
    {
     "name": "stderr",
     "output_type": "stream",
     "text": [
      "Checkpoint destination directory gpt2-outputs\\checkpoint-500 already exists and is non-empty.Saving will proceed but saved results may be invalid.\n",
      "Checkpoint destination directory gpt2-outputs\\checkpoint-1000 already exists and is non-empty.Saving will proceed but saved results may be invalid.\n",
      "Checkpoint destination directory gpt2-outputs\\checkpoint-1500 already exists and is non-empty.Saving will proceed but saved results may be invalid.\n",
      "Checkpoint destination directory gpt2-outputs\\checkpoint-2000 already exists and is non-empty.Saving will proceed but saved results may be invalid.\n",
      "Checkpoint destination directory gpt2-outputs\\checkpoint-2500 already exists and is non-empty.Saving will proceed but saved results may be invalid.\n",
      "Checkpoint destination directory gpt2-outputs\\checkpoint-3000 already exists and is non-empty.Saving will proceed but saved results may be invalid.\n",
      "Checkpoint destination directory gpt2-outputs\\checkpoint-3500 already exists and is non-empty.Saving will proceed but saved results may be invalid.\n",
      "Checkpoint destination directory gpt2-outputs\\checkpoint-4000 already exists and is non-empty.Saving will proceed but saved results may be invalid.\n",
      "Checkpoint destination directory gpt2-outputs\\checkpoint-4500 already exists and is non-empty.Saving will proceed but saved results may be invalid.\n",
      "Checkpoint destination directory gpt2-outputs\\checkpoint-5000 already exists and is non-empty.Saving will proceed but saved results may be invalid.\n",
      "Checkpoint destination directory gpt2-outputs\\checkpoint-5500 already exists and is non-empty.Saving will proceed but saved results may be invalid.\n",
      "Checkpoint destination directory gpt2-outputs\\checkpoint-6000 already exists and is non-empty.Saving will proceed but saved results may be invalid.\n",
      "Checkpoint destination directory gpt2-outputs\\checkpoint-6500 already exists and is non-empty.Saving will proceed but saved results may be invalid.\n",
      "Checkpoint destination directory gpt2-outputs\\checkpoint-7000 already exists and is non-empty.Saving will proceed but saved results may be invalid.\n",
      "Checkpoint destination directory gpt2-outputs\\checkpoint-7500 already exists and is non-empty.Saving will proceed but saved results may be invalid.\n",
      "Checkpoint destination directory gpt2-outputs\\checkpoint-8000 already exists and is non-empty.Saving will proceed but saved results may be invalid.\n",
      "Checkpoint destination directory gpt2-outputs\\checkpoint-8500 already exists and is non-empty.Saving will proceed but saved results may be invalid.\n",
      "Checkpoint destination directory gpt2-outputs\\checkpoint-9000 already exists and is non-empty.Saving will proceed but saved results may be invalid.\n",
      "Checkpoint destination directory gpt2-outputs\\checkpoint-9500 already exists and is non-empty.Saving will proceed but saved results may be invalid.\n",
      "Checkpoint destination directory gpt2-outputs\\checkpoint-10000 already exists and is non-empty.Saving will proceed but saved results may be invalid.\n",
      "Checkpoint destination directory gpt2-outputs\\checkpoint-10500 already exists and is non-empty.Saving will proceed but saved results may be invalid.\n",
      "Checkpoint destination directory gpt2-outputs\\checkpoint-11000 already exists and is non-empty.Saving will proceed but saved results may be invalid.\n",
      "Checkpoint destination directory gpt2-outputs\\checkpoint-11500 already exists and is non-empty.Saving will proceed but saved results may be invalid.\n",
      "Checkpoint destination directory gpt2-outputs\\checkpoint-12000 already exists and is non-empty.Saving will proceed but saved results may be invalid.\n",
      "Checkpoint destination directory gpt2-outputs\\checkpoint-12500 already exists and is non-empty.Saving will proceed but saved results may be invalid.\n",
      "Checkpoint destination directory gpt2-outputs\\checkpoint-13000 already exists and is non-empty.Saving will proceed but saved results may be invalid.\n",
      "Checkpoint destination directory gpt2-outputs\\checkpoint-13500 already exists and is non-empty.Saving will proceed but saved results may be invalid.\n"
     ]
    },
    {
     "name": "stdout",
     "output_type": "stream",
     "text": [
      "CPU times: total: 15min 47s\n",
      "Wall time: 46min 24s\n"
     ]
    },
    {
     "data": {
      "text/plain": [
       "TrainOutput(global_step=13800, training_loss=1.2115888048254926, metrics={'train_runtime': 2784.8932, 'train_samples_per_second': 79.274, 'train_steps_per_second': 4.955, 'total_flos': 5.125731308273664e+16, 'train_loss': 1.2115888048254926, 'epoch': 30.0})"
      ]
     },
     "execution_count": 20,
     "metadata": {},
     "output_type": "execute_result"
    }
   ],
   "source": [
    "%%time\n",
    "trainer.train()"
   ]
  },
  {
   "cell_type": "code",
   "execution_count": 38,
   "id": "f69cb659-23d8-4623-854c-4ea249ffff94",
   "metadata": {},
   "outputs": [],
   "source": [
    "sequence = \"[Task]: Write a not sexist comment.\\n[Answer]: \"\n",
    "tokenized_sequence = tokenizer.encode(sequence, return_tensors='pt').to(device)"
   ]
  },
  {
   "cell_type": "code",
   "execution_count": 39,
   "id": "e2f6a15d-08f2-489e-b64c-b38f37235d3d",
   "metadata": {},
   "outputs": [
    {
     "name": "stdout",
     "output_type": "stream",
     "text": [
      "[Task]: Write a not sexist comment.\n",
      "[Answer]: __________________[USER]‍ I would just love to be able to walk up to her and say hi to her and say hi to my JACK in case she needs anything.\n"
     ]
    }
   ],
   "source": [
    "tokenized_outputs = model.generate(tokenized_sequence,\n",
    "                                   do_sample=True,\n",
    "                                   max_length=50,\n",
    "                                   pad_token_id=model.config.eos_token_id,\n",
    "                                   top_k=50,\n",
    "                                   top_p=0.95\n",
    "                                  )\n",
    "generated_text = tokenizer.decode(tokenized_outputs[0], skip_special_token=True)\n",
    "print(generated_text)"
   ]
  },
  {
   "cell_type": "code",
   "execution_count": null,
   "id": "240688ba-333c-44a8-afa4-1d2190335fdd",
   "metadata": {},
   "outputs": [],
   "source": []
  }
 ],
 "metadata": {
  "kernelspec": {
   "display_name": "Python 3 (ipykernel)",
   "language": "python",
   "name": "python3"
  },
  "language_info": {
   "codemirror_mode": {
    "name": "ipython",
    "version": 3
   },
   "file_extension": ".py",
   "mimetype": "text/x-python",
   "name": "python",
   "nbconvert_exporter": "python",
   "pygments_lexer": "ipython3",
   "version": "3.11.6"
  }
 },
 "nbformat": 4,
 "nbformat_minor": 5
}
